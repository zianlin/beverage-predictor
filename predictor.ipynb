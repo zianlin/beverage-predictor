{
  "nbformat": 4,
  "nbformat_minor": 0,
  "metadata": {
    "colab": {
      "provenance": [],
      "include_colab_link": true
    },
    "kernelspec": {
      "display_name": "Python 3",
      "name": "python3"
    },
    "language_info": {
      "name": "python"
    }
  },
  "cells": [
    {
      "cell_type": "markdown",
      "metadata": {
        "id": "view-in-github",
        "colab_type": "text"
      },
      "source": [
        "<a href=\"https://colab.research.google.com/github/zianlin/beverage-predictor/blob/main/predictor.ipynb\" target=\"_parent\"><img src=\"https://colab.research.google.com/assets/colab-badge.svg\" alt=\"Open In Colab\"/></a>"
      ]
    },
    {
      "cell_type": "code",
      "metadata": {
        "colab": {
          "base_uri": "https://localhost:8080/"
        },
        "id": "Z8XHVaqQRNHC",
        "outputId": "2c94b19f-0e1b-42dc-d0d6-718bc6b2d480"
      },
      "source": [
        "import gzip\n",
        "import copy\n",
        "import statistics\n",
        "import random\n",
        "import string\n",
        "import scipy\n",
        "import numpy as np\n",
        "import dateutil\n",
        "import matplotlib.pyplot as plt\n",
        "from matplotlib.pyplot import figure\n",
        "import pandas as pd\n",
        "import seaborn as sns\n",
        "import sklearn\n",
        "from collections import defaultdict\n",
        "from collections import Counter\n",
        "from sklearn import linear_model\n",
        "from sklearn.linear_model import Ridge\n",
        "import csv\n",
        "import math\n",
        "from numpy import dot\n",
        "from numpy.linalg import norm\n",
        "\n",
        "import nltk\n",
        "nltk.download('stopwords')\n",
        "nltk.download('punkt')\n",
        "from nltk.corpus import stopwords\n",
        "from nltk.stem import PorterStemmer\n",
        "from nltk.tokenize import word_tokenize\n",
        "from nltk.util import ngrams"
      ],
      "execution_count": null,
      "outputs": [
        {
          "output_type": "stream",
          "name": "stdout",
          "text": [
            "[nltk_data] Downloading package stopwords to /root/nltk_data...\n",
            "[nltk_data]   Package stopwords is already up-to-date!\n",
            "[nltk_data] Downloading package punkt to /root/nltk_data...\n",
            "[nltk_data]   Package punkt is already up-to-date!\n"
          ]
        }
      ]
    },
    {
      "cell_type": "markdown",
      "metadata": {
        "id": "N263e5Y9G2kY"
      },
      "source": [
        "#**Q1**"
      ]
    },
    {
      "cell_type": "code",
      "metadata": {
        "colab": {
          "base_uri": "https://localhost:8080/"
        },
        "id": "q8oDazCFgnWM",
        "outputId": "b28e5ddd-4326-460f-c791-141012ecf172"
      },
      "source": [
        "dataset = []\n",
        "for i in range(2025995):\n",
        "  dataset.append({})\n",
        "i = 0\n",
        "x = gzip.open(\"cellartracker (2).txt.gz\")\n",
        "for l in x:\n",
        "  boolean = False\n",
        "  for x in [b'wine/name', b'wine/wineId', b'wine/variant', b'wine/year', b'review/points', b'review/time', b'review/userId', b'review/userName', b'review/text']:\n",
        "    if l.startswith(x): \n",
        "      dataset[i][str(x)[2:-1]] = str(l).split(':', 1)[1][1:-3]\n",
        "      boolean = True\n",
        "  if boolean: continue\n",
        "  else: i = i + 1\n",
        "  if i%100000 == 0: print(i)"
      ],
      "execution_count": null,
      "outputs": [
        {
          "output_type": "stream",
          "name": "stdout",
          "text": [
            "100000\n",
            "200000\n",
            "300000\n",
            "400000\n",
            "500000\n",
            "600000\n",
            "700000\n",
            "800000\n",
            "900000\n",
            "1000000\n",
            "1100000\n",
            "1200000\n",
            "1300000\n",
            "1400000\n",
            "1500000\n",
            "1600000\n",
            "1700000\n",
            "1800000\n",
            "1900000\n",
            "2000000\n"
          ]
        }
      ]
    },
    {
      "cell_type": "code",
      "metadata": {
        "colab": {
          "base_uri": "https://localhost:8080/"
        },
        "id": "ClQQ83hRETrp",
        "outputId": "9b09e64a-2e5f-483a-84f1-bb776311dd1b"
      },
      "source": [
        "dataset[0]"
      ],
      "execution_count": null,
      "outputs": [
        {
          "output_type": "execute_result",
          "data": {
            "text/plain": [
              "{'review/points': '96',\n",
              " 'review/text': 'Olive, horse sweat, dirty saddle, and smoke. This actually got quite a bit more spicy and expressive with significant aeration. This was a little dry on the palate first but filled out considerably in time, lovely, loaded with tapenade, leather, dry and powerful, very black olive, meaty. This improved considerably the longer it was open. A terrific bottle of 1981, 96+ and improving. This may well be my favorite vintage of Beau except for perhaps the 1990.',\n",
              " 'review/time': '1160179200',\n",
              " 'review/userId': '1',\n",
              " 'review/userName': 'Eric',\n",
              " 'wine/name': '1981 Ch&#226;teau de Beaucastel Ch&#226;teauneuf-du-Pape',\n",
              " 'wine/variant': 'Red Rhone Blend',\n",
              " 'wine/wineId': '18856',\n",
              " 'wine/year': '1981'}"
            ]
          },
          "metadata": {},
          "execution_count": 3
        }
      ]
    },
    {
      "cell_type": "code",
      "metadata": {
        "colab": {
          "base_uri": "https://localhost:8080/"
        },
        "id": "NR_etqA3eQo3",
        "outputId": "630f808a-d8b9-47bf-8ddd-34a11985d40a"
      },
      "source": [
        "len(dataset)"
      ],
      "execution_count": null,
      "outputs": [
        {
          "output_type": "execute_result",
          "data": {
            "text/plain": [
              "2025995"
            ]
          },
          "metadata": {},
          "execution_count": 4
        }
      ]
    },
    {
      "cell_type": "code",
      "metadata": {
        "colab": {
          "base_uri": "https://localhost:8080/"
        },
        "id": "2urMCV4zbGeS",
        "outputId": "41d5b855-f11d-4230-c20e-d2196145a1a2"
      },
      "source": [
        "#pruning - remove NAs\n",
        "temp = []\n",
        "for d in dataset:\n",
        "  if 'N/A' in [d[s] for s in ['wine/name', 'wine/wineId', 'wine/variant', 'wine/year', 'review/points', 'review/time', 'review/userId', 'review/userName', 'review/text']]:\n",
        "    continue\n",
        "  if int(d['review/time']) >= 0:\n",
        "    temp.append(d)\n",
        "\n",
        "dataset = temp\n",
        "len(dataset)"
      ],
      "execution_count": null,
      "outputs": [
        {
          "output_type": "execute_result",
          "data": {
            "text/plain": [
              "1521507"
            ]
          },
          "metadata": {},
          "execution_count": 5
        }
      ]
    },
    {
      "cell_type": "code",
      "metadata": {
        "colab": {
          "base_uri": "https://localhost:8080/"
        },
        "id": "485YabAhJXmZ",
        "outputId": "bdaef922-492a-423f-cbdd-328358148f31"
      },
      "source": [
        "#pruning - remove reviews with less than 50 words\n",
        "temp = []\n",
        "for d in dataset:\n",
        "  if len(d['review/text'].split()) < 50:\n",
        "    continue\n",
        "  temp.append(d)\n",
        "\n",
        "dataset = temp\n",
        "len(dataset)"
      ],
      "execution_count": null,
      "outputs": [
        {
          "output_type": "execute_result",
          "data": {
            "text/plain": [
              "399359"
            ]
          },
          "metadata": {},
          "execution_count": 6
        }
      ]
    },
    {
      "cell_type": "code",
      "metadata": {
        "id": "0Q2_aTA2OoiQ"
      },
      "source": [
        "lengths = [len(winesPerUser[d['review/userId']]) for u in winesPerUser]\n",
        "statistics.mean(lengths)"
      ],
      "execution_count": null,
      "outputs": []
    },
    {
      "cell_type": "code",
      "metadata": {
        "id": "m6tGvoQbKGKc"
      },
      "source": [
        "dataset.sort(key=lambda x: x['review/time'])"
      ],
      "execution_count": null,
      "outputs": []
    },
    {
      "cell_type": "code",
      "metadata": {
        "id": "DCPUL3SgOszV"
      },
      "source": [
        "points = []\n",
        "for d in dataset:\n",
        "  points.append(int(d['review/points']))"
      ],
      "execution_count": null,
      "outputs": []
    },
    {
      "cell_type": "code",
      "metadata": {
        "colab": {
          "base_uri": "https://localhost:8080/"
        },
        "id": "zzXi83JDZqoV",
        "outputId": "7239e57a-b831-4c2a-d730-d25449159184"
      },
      "source": [
        "statistics.mean(points)"
      ],
      "execution_count": null,
      "outputs": [
        {
          "data": {
            "text/plain": [
              "89.66444226873566"
            ]
          },
          "execution_count": 288,
          "metadata": {},
          "output_type": "execute_result"
        }
      ]
    },
    {
      "cell_type": "code",
      "metadata": {
        "colab": {
          "base_uri": "https://localhost:8080/",
          "height": 373
        },
        "id": "3NCOO0czMvDq",
        "outputId": "ba3c4fbb-5c43-4a49-cbc4-6272fe2b9413"
      },
      "source": [
        "f = plt.figure()\n",
        "f.set_figwidth(6)\n",
        "f.set_figheight(4)\n",
        "\n",
        "plt.hist(points, bins = 50)\n",
        "plt.xticks([50, 70, 80, 86, 90, 94, 98], [\"Avoid (50-69)\", \"Below/Average (70-79)\", \"Good (80-85)\", \"Very Good (86-89)\", \"Excellent (90-93)\", \"Outstanding (94-97)\", \"Extraordinary (98-100)\"], rotation='45')\n",
        "plt.gca().set(title='Distribution of Points', xlabel = 'Points', ylabel='Frequency');"
      ],
      "execution_count": null,
      "outputs": [
        {
          "data": {
            "image/png": "[encoded data removed]",
            "text/plain": [
              "<Figure size 432x288 with 1 Axes>"
            ]
          },
          "metadata": {},
          "output_type": "display_data"
        }
      ]
    },
    {
      "cell_type": "markdown",
      "metadata": {
        "id": "ECdz_7OzYoms"
      },
      "source": [
        "##**Q2**"
      ]
    },
    {
      "cell_type": "code",
      "metadata": {
        "id": "E4-MGY_JtmRx"
      },
      "source": [
        "def getMSE(list1, list2):\n",
        "  return sum([(int(yp) - int(yt))**2 for (yp,yt) in zip(list1, list2)]) / len(list2)"
      ],
      "execution_count": null,
      "outputs": []
    },
    {
      "cell_type": "code",
      "metadata": {
        "id": "x6PcRjGsufer"
      },
      "source": [
        "def getRMSE(list1, list2):\n",
        "  return MSE(list1, list2)**0.5"
      ],
      "execution_count": null,
      "outputs": []
    },
    {
      "cell_type": "code",
      "metadata": {
        "id": "Lcvdv7Hoqego"
      },
      "source": [
        "#stopwords\n",
        "s = nltk.corpus.stopwords.words(\"english\")\n",
        "datastop = []\n",
        "for d in dataset:\n",
        "  d2 = copy.deepcopy(d)\n",
        "  text = \"\".join([word + \" \" for word in dataset[0]['review/text'].split() if word not in s])\n",
        "  d2['review/text'] = text\n",
        "  datastop.append(d2)"
      ],
      "execution_count": null,
      "outputs": []
    },
    {
      "cell_type": "code",
      "metadata": {
        "colab": {
          "base_uri": "https://localhost:8080/"
        },
        "id": "4jmgVH2ytY8G",
        "outputId": "ef61dc89-513e-4dd7-edc1-485498c93241"
      },
      "source": [
        "dataset[0]['review/text'], datastop[0]['review/text']"
      ],
      "execution_count": null,
      "outputs": [
        {
          "output_type": "execute_result",
          "data": {
            "text/plain": [
              "('Olive, horse sweat, dirty saddle, and smoke. This actually got quite a bit more spicy and expressive with significant aeration. This was a little dry on the palate first but filled out considerably in time, lovely, loaded with tapenade, leather, dry and powerful, very black olive, meaty. This improved considerably the longer it was open. A terrific bottle of 1981, 96+ and improving. This may well be my favorite vintage of Beau except for perhaps the 1990.',\n",
              " 'Olive, horse sweat, dirty saddle, smoke. This actually got quite bit spicy expressive significant aeration. This little dry palate first filled considerably time, lovely, loaded tapenade, leather, dry powerful, black olive, meaty. This improved considerably longer open. A terrific bottle 1981, 96+ improving. This may well favorite vintage Beau except perhaps 1990. ')"
            ]
          },
          "metadata": {},
          "execution_count": 9
        }
      ]
    },
    {
      "cell_type": "code",
      "metadata": {
        "id": "nXxX-8Ie1KMQ"
      },
      "source": [
        "#stemming\n",
        "ps = PorterStemmer()\n",
        "datastem = []\n",
        "for d in dataset:\n",
        "  d2 = copy.deepcopy(d)\n",
        "  text = \"\".join([ps.stem(word) + \" \" for word in dataset[0]['review/text'].split()])\n",
        "  d2['review/text'] = text\n",
        "  datastem.append(d2)"
      ],
      "execution_count": null,
      "outputs": []
    },
    {
      "cell_type": "code",
      "metadata": {
        "colab": {
          "base_uri": "https://localhost:8080/"
        },
        "id": "m-kRVLcS4mBS",
        "outputId": "a9d9b4e8-1b42-464a-fca7-96ba5820a35d"
      },
      "source": [
        "dataset[0]['review/text'], datastem[0]['review/text']"
      ],
      "execution_count": null,
      "outputs": [
        {
          "output_type": "execute_result",
          "data": {
            "text/plain": [
              "('Olive, horse sweat, dirty saddle, and smoke. This actually got quite a bit more spicy and expressive with significant aeration. This was a little dry on the palate first but filled out considerably in time, lovely, loaded with tapenade, leather, dry and powerful, very black olive, meaty. This improved considerably the longer it was open. A terrific bottle of 1981, 96+ and improving. This may well be my favorite vintage of Beau except for perhaps the 1990.',\n",
              " 'olive, hors sweat, dirti saddle, and smoke. thi actual got quit a bit more spici and express with signific aeration. thi wa a littl dri on the palat first but fill out consider in time, lovely, load with tapenade, leather, dri and powerful, veri black olive, meaty. thi improv consider the longer it wa open. A terrif bottl of 1981, 96+ and improving. thi may well be my favorit vintag of beau except for perhap the 1990. ')"
            ]
          },
          "metadata": {},
          "execution_count": 11
        }
      ]
    },
    {
      "cell_type": "code",
      "metadata": {
        "id": "-k9iqGMz5dmh"
      },
      "source": [
        "#both stopping and stemming\n",
        "ps = PorterStemmer()\n",
        "databoth = []\n",
        "for d in datastop:\n",
        "  d2 = copy.deepcopy(d)\n",
        "  text = \"\".join([ps.stem(word) + \" \" for word in datastop[0]['review/text'].split()])\n",
        "  d2['review/text'] = text\n",
        "  databoth.append(d2)"
      ],
      "execution_count": null,
      "outputs": []
    },
    {
      "cell_type": "code",
      "metadata": {
        "colab": {
          "base_uri": "https://localhost:8080/"
        },
        "id": "fVASIFUy1wyP",
        "outputId": "6cae18d7-f4ff-4b12-9ec1-0fd23ead1512"
      },
      "source": [
        "dataset[0]['review/text'], databoth[0]['review/text']"
      ],
      "execution_count": null,
      "outputs": [
        {
          "output_type": "execute_result",
          "data": {
            "text/plain": [
              "('Olive, horse sweat, dirty saddle, and smoke. This actually got quite a bit more spicy and expressive with significant aeration. This was a little dry on the palate first but filled out considerably in time, lovely, loaded with tapenade, leather, dry and powerful, very black olive, meaty. This improved considerably the longer it was open. A terrific bottle of 1981, 96+ and improving. This may well be my favorite vintage of Beau except for perhaps the 1990.',\n",
              " 'olive, hors sweat, dirti saddle, smoke. thi actual got quit bit spici express signific aeration. thi littl dri palat first fill consider time, lovely, load tapenade, leather, dri powerful, black olive, meaty. thi improv consider longer open. A terrif bottl 1981, 96+ improving. thi may well favorit vintag beau except perhap 1990. ')"
            ]
          },
          "metadata": {},
          "execution_count": 13
        }
      ]
    },
    {
      "cell_type": "code",
      "metadata": {
        "id": "4EvT1Ny0Y5fm"
      },
      "source": [
        "train, temp = sklearn.model_selection.train_test_split(dataset, train_size=0.8, shuffle=True)\n",
        "test, validation = sklearn.model_selection.train_test_split(temp, train_size=0.5, shuffle=False)\n",
        "\n",
        "trainstop, tempstop = sklearn.model_selection.train_test_split(datastop, train_size=0.8, shuffle=True)\n",
        "teststop, validationstop = sklearn.model_selection.train_test_split(temp, train_size=0.5, shuffle=False)\n",
        "\n",
        "trainstem, tempstem = sklearn.model_selection.train_test_split(datastem, train_size=0.8, shuffle=True)\n",
        "teststem, validationstem = sklearn.model_selection.train_test_split(temp, train_size=0.5, shuffle=False)\n",
        "\n",
        "trainboth, tempboth = sklearn.model_selection.train_test_split(databoth, train_size=0.8, shuffle=True)\n",
        "testboth, validationboth = sklearn.model_selection.train_test_split(temp, train_size=0.5, shuffle=False)"
      ],
      "execution_count": null,
      "outputs": []
    },
    {
      "cell_type": "code",
      "metadata": {
        "colab": {
          "base_uri": "https://localhost:8080/"
        },
        "id": "IckK5GKNuJcr",
        "outputId": "d2a9d9ae-d503-4913-fab9-2a89e6c677e9"
      },
      "source": [
        "#baseline 1\n",
        "for t in [train, trainstop, trainstem, trainboth]:\n",
        "  trainpoints = [int(d['review/points']) for d in t]\n",
        "  means = [statistics.mean(trainpoints)]*len(trainpoints)\n",
        "  print(getMSE(trainpoints, means))"
      ],
      "execution_count": null,
      "outputs": [
        {
          "output_type": "stream",
          "name": "stdout",
          "text": [
            "16.557287150963887\n",
            "16.515094510887767\n",
            "16.589795515936487\n",
            "16.569835392363384\n"
          ]
        }
      ]
    },
    {
      "cell_type": "code",
      "metadata": {
        "colab": {
          "base_uri": "https://localhost:8080/"
        },
        "id": "bV5qjLxowfdj",
        "outputId": "89d97b61-03e1-43c0-b5b3-ee3185d6e851"
      },
      "source": [
        "#baseline 2\n",
        "for t in [(train, temp), (trainstop, tempstop), (trainstem, tempstem), (trainboth, tempboth)]:\n",
        "  Xtrain = [[1, int(d['wine/year']), int(d['review/time']), len(d['review/text'])] for d in t[0]]\n",
        "  Ytrain = [int(d['review/points']) for d in t[0]]\n",
        "  Xtest = [[1, int(d['wine/year']), int(d['review/time']), len(d['review/text'])] for d in t[1]]\n",
        "  Ytest = [int(d['review/points']) for d in t[1]]\n",
        "  mod = linear_model.LinearRegression()\n",
        "  mod.fit(Xtrain,Ytrain)\n",
        "  Ypred = mod.predict(Xtest)\n",
        "  MSE = sum([(yp - yt)**2 for (yp,yt) in zip(Ypred, Ytest)]) / len(Ytest)\n",
        "  print(MSE)"
      ],
      "execution_count": null,
      "outputs": [
        {
          "output_type": "stream",
          "name": "stdout",
          "text": [
            "15.327049642736014\n",
            "15.552496114049609\n",
            "15.278382356506715\n",
            "15.352080183253173\n"
          ]
        }
      ]
    },
    {
      "cell_type": "code",
      "metadata": {
        "id": "POnNUvRN1W_7"
      },
      "source": [
        "#bag of words model"
      ],
      "execution_count": null,
      "outputs": []
    },
    {
      "cell_type": "code",
      "metadata": {
        "id": "oygzAovdFOPU"
      },
      "source": [
        "nWords = 500\n",
        "lambdas = [0.01, 0.1, 1, 10, 100, 1000, 10000]"
      ],
      "execution_count": null,
      "outputs": []
    },
    {
      "cell_type": "code",
      "metadata": {
        "id": "LB2ZXfgvD7A-"
      },
      "source": [
        "t = (trainstop, tempstop, validationstop)\n",
        "unigrams, bigrams = [], []\n",
        "for d in t[0]:\n",
        "  token = d['review/text'].translate(str.maketrans('', '', string.punctuation)).lower().split()\n",
        "  unigrams += token\n",
        "  bigrams += ngrams(token, 2)"
      ],
      "execution_count": null,
      "outputs": []
    },
    {
      "cell_type": "code",
      "metadata": {
        "id": "HHG19Pz2FJBY"
      },
      "source": [
        "unicom, bicom = Counter(unigrams).most_common(nWords), Counter(bigrams).most_common(nWords)"
      ],
      "execution_count": null,
      "outputs": []
    },
    {
      "cell_type": "code",
      "metadata": {
        "id": "H5hwfuRpzJdq"
      },
      "source": [
        "combocom = Counter(unigrams+bigrams).most_common(nWords)"
      ],
      "execution_count": null,
      "outputs": []
    },
    {
      "cell_type": "code",
      "metadata": {
        "id": "G5x0ccO1IgCk"
      },
      "source": [
        "def featureUni(d):\n",
        "  v = [0]*nWords\n",
        "  unigrams = d['review/text'].translate(str.maketrans('', '', string.punctuation)).lower().split()\n",
        "  for i in range(nWords):\n",
        "    if unicom[i][0] in unigrams:\n",
        "      v[i] = unigrams.count(unicom[i][0])\n",
        "  return v\n",
        "\n",
        "def featureBi(d):\n",
        "  v = [0]*nWords\n",
        "  bigrams = list(ngrams(d['review/text'].translate(str.maketrans('', '', string.punctuation)).lower().split(), 2))\n",
        "  for i in range(nWords):\n",
        "    if bicom[i][0] in bigrams:\n",
        "      v[i] = bigrams.count(bicom[i][0])\n",
        "  return v"
      ],
      "execution_count": null,
      "outputs": []
    },
    {
      "cell_type": "code",
      "metadata": {
        "id": "tyFKEOFDzNGG"
      },
      "source": [
        "def featureCombo(d):\n",
        "  v = [0]*nWords\n",
        "  unigrams = d['review/text'].translate(str.maketrans('', '', string.punctuation)).lower().split()\n",
        "  bigrams = list(ngrams(unigrams, 2))\n",
        "  combograms = unigrams+bigrams\n",
        "  for i in range(nWords):\n",
        "    if combocom[i][0] in combograms:\n",
        "      v[i] = combograms.count(combocom[i][0])\n",
        "  return v"
      ],
      "execution_count": null,
      "outputs": []
    },
    {
      "cell_type": "code",
      "metadata": {
        "id": "oGYCVekRE97Q"
      },
      "source": [
        "#tf-idf\n",
        "idfDict = defaultdict(int)\n",
        "for u in unicom:\n",
        "  count = 0\n",
        "  for d in t[0]:\n",
        "    #strip punctuation + lowercase\n",
        "    text = d['review/text'].translate(str.maketrans('', '', string.punctuation)).lower().split()\n",
        "    if u[0] in text: count += 1\n",
        "  idfDict[u[0]] = math.log2(len(t[0])/(count))"
      ],
      "execution_count": null,
      "outputs": []
    },
    {
      "cell_type": "code",
      "metadata": {
        "id": "zwvVjujSFfA6"
      },
      "source": [
        "def tf(tx, d):\n",
        "  unigrams = []\n",
        "  text = d['review/text'].translate(str.maketrans('', '', string.punctuation)).lower()\n",
        "  return text.split().count(tx)\n",
        "def tfidf(tx, d):\n",
        "  return tf(tx, d)*idfDict[tx]\n",
        "def tfidfVec(d):\n",
        "  v = [0]*nWords\n",
        "  for i in range(nWords):\n",
        "    v[i] = tfidf(unicom[i][0], d)\n",
        "  return v"
      ],
      "execution_count": null,
      "outputs": []
    },
    {
      "cell_type": "code",
      "metadata": {
        "id": "wNb97H94GCUc"
      },
      "source": [
        "#tfidf\n",
        "Xtrain = [tfidfVec(d) for d in t[0]]\n",
        "Ytrain = [d['review/points'] for d in t[0]]"
      ],
      "execution_count": null,
      "outputs": []
    },
    {
      "cell_type": "code",
      "metadata": {
        "id": "cxwrLviYGe7O"
      },
      "source": [
        "Xtest = [tfidfVec(d) for d in t[1]]\n",
        "Ytest = [d['review/points'] for d in t[1]]\n",
        "Xvalid = [tfidfVec(d) for d in t[2]]\n",
        "Yvalid = [d['review/points'] for d in t[2]]"
      ],
      "execution_count": null,
      "outputs": []
    },
    {
      "cell_type": "code",
      "metadata": {
        "id": "W_fhIUYPGsZR"
      },
      "source": [
        "for l in lambdas:\n",
        "  mod = Ridge(alpha=l)\n",
        "  mod.fit(Xtrain,Ytrain)\n",
        "  Ypred = mod.predict(Xvalid)\n",
        "  print(getMSE(Ypred, Yvalid), l)"
      ],
      "execution_count": null,
      "outputs": []
    },
    {
      "cell_type": "code",
      "metadata": {
        "id": "4N-o8Lnszo-_"
      },
      "source": [
        "#combograms first\n",
        "Xtrain = [featureCombo(d) for d in t[0]]\n",
        "Ytrain = [d['review/points'] for d in t[0]]"
      ],
      "execution_count": null,
      "outputs": []
    },
    {
      "cell_type": "code",
      "metadata": {
        "id": "GDP8D2C6zzbs"
      },
      "source": [
        "Xtest = [featureCombo(d) for d in t[1]]\n",
        "Ytest = [d['review/points'] for d in t[1]]\n",
        "Xvalid = [featureCombo(d) for d in t[2]]\n",
        "Yvalid = [d['review/points'] for d in t[2]]"
      ],
      "execution_count": null,
      "outputs": []
    },
    {
      "cell_type": "code",
      "metadata": {
        "colab": {
          "base_uri": "https://localhost:8080/"
        },
        "id": "p7I_COrZzu-S",
        "outputId": "f0f50a35-39c9-47e3-b24f-4591440e1b6a"
      },
      "source": [
        "for l in lambdas:\n",
        "  mod = Ridge(alpha=l)\n",
        "  mod.fit(Xtrain,Ytrain)\n",
        "  Ypred = mod.predict(Xvalid)\n",
        "  print(getMSE(Ypred, Yvalid), l)"
      ],
      "execution_count": null,
      "outputs": [
        {
          "output_type": "stream",
          "name": "stdout",
          "text": [
            "11.982171474358974 0.01\n",
            "11.982171474358974 0.1\n",
            "11.982171474358974 1\n",
            "11.981244991987179 10\n",
            "11.979166666666666 100\n",
            "11.973657852564102 1000\n",
            "12.129056490384615 10000\n"
          ]
        }
      ]
    },
    {
      "cell_type": "code",
      "metadata": {
        "colab": {
          "base_uri": "https://localhost:8080/"
        },
        "id": "1eCqGMqtz1D4",
        "outputId": "32622f78-f58d-4534-89d5-ecd741f20e4c"
      },
      "source": [
        "mod = Ridge(alpha=1000)\n",
        "mod.fit(Xtrain,Ytrain)\n",
        "Ypred = mod.predict(Xtest)\n",
        "getMSE(Ypred, Ytest)"
      ],
      "execution_count": null,
      "outputs": [
        {
          "output_type": "execute_result",
          "data": {
            "text/plain": [
              "11.940104166666666"
            ]
          },
          "metadata": {},
          "execution_count": 149
        }
      ]
    },
    {
      "cell_type": "code",
      "metadata": {
        "id": "tXe15qmPJQip",
        "colab": {
          "base_uri": "https://localhost:8080/",
          "height": 340
        },
        "outputId": "db375e20-e4bc-413c-e15a-1b1112eb1fb7"
      },
      "source": [
        "#unigrams first\n",
        "Xtrain = [featureUni(d) for d in t[0]]\n",
        "Ytrain = [d['review/points'] for d in t[0]]"
      ],
      "execution_count": null,
      "outputs": [
        {
          "output_type": "error",
          "ename": "IndexError",
          "evalue": "ignored",
          "traceback": [
            "\u001b[0;31m---------------------------------------------------------------------------\u001b[0m",
            "\u001b[0;31mIndexError\u001b[0m                                Traceback (most recent call last)",
            "\u001b[0;32m<ipython-input-25-470a868398de>\u001b[0m in \u001b[0;36m<module>\u001b[0;34m()\u001b[0m\n\u001b[1;32m      1\u001b[0m \u001b[0;31m#unigrams first\u001b[0m\u001b[0;34m\u001b[0m\u001b[0;34m\u001b[0m\u001b[0;34m\u001b[0m\u001b[0m\n\u001b[0;32m----> 2\u001b[0;31m \u001b[0mXtrain\u001b[0m \u001b[0;34m=\u001b[0m \u001b[0;34m[\u001b[0m\u001b[0mfeatureUni\u001b[0m\u001b[0;34m(\u001b[0m\u001b[0md\u001b[0m\u001b[0;34m)\u001b[0m \u001b[0;32mfor\u001b[0m \u001b[0md\u001b[0m \u001b[0;32min\u001b[0m \u001b[0mt\u001b[0m\u001b[0;34m[\u001b[0m\u001b[0;36m0\u001b[0m\u001b[0;34m]\u001b[0m\u001b[0;34m]\u001b[0m\u001b[0;34m\u001b[0m\u001b[0;34m\u001b[0m\u001b[0m\n\u001b[0m\u001b[1;32m      3\u001b[0m \u001b[0mYtrain\u001b[0m \u001b[0;34m=\u001b[0m \u001b[0;34m[\u001b[0m\u001b[0md\u001b[0m\u001b[0;34m[\u001b[0m\u001b[0;34m'review/points'\u001b[0m\u001b[0;34m]\u001b[0m \u001b[0;32mfor\u001b[0m \u001b[0md\u001b[0m \u001b[0;32min\u001b[0m \u001b[0mt\u001b[0m\u001b[0;34m[\u001b[0m\u001b[0;36m0\u001b[0m\u001b[0;34m]\u001b[0m\u001b[0;34m]\u001b[0m\u001b[0;34m\u001b[0m\u001b[0;34m\u001b[0m\u001b[0m\n",
            "\u001b[0;32m<ipython-input-25-470a868398de>\u001b[0m in \u001b[0;36m<listcomp>\u001b[0;34m(.0)\u001b[0m\n\u001b[1;32m      1\u001b[0m \u001b[0;31m#unigrams first\u001b[0m\u001b[0;34m\u001b[0m\u001b[0;34m\u001b[0m\u001b[0;34m\u001b[0m\u001b[0m\n\u001b[0;32m----> 2\u001b[0;31m \u001b[0mXtrain\u001b[0m \u001b[0;34m=\u001b[0m \u001b[0;34m[\u001b[0m\u001b[0mfeatureUni\u001b[0m\u001b[0;34m(\u001b[0m\u001b[0md\u001b[0m\u001b[0;34m)\u001b[0m \u001b[0;32mfor\u001b[0m \u001b[0md\u001b[0m \u001b[0;32min\u001b[0m \u001b[0mt\u001b[0m\u001b[0;34m[\u001b[0m\u001b[0;36m0\u001b[0m\u001b[0;34m]\u001b[0m\u001b[0;34m]\u001b[0m\u001b[0;34m\u001b[0m\u001b[0;34m\u001b[0m\u001b[0m\n\u001b[0m\u001b[1;32m      3\u001b[0m \u001b[0mYtrain\u001b[0m \u001b[0;34m=\u001b[0m \u001b[0;34m[\u001b[0m\u001b[0md\u001b[0m\u001b[0;34m[\u001b[0m\u001b[0;34m'review/points'\u001b[0m\u001b[0;34m]\u001b[0m \u001b[0;32mfor\u001b[0m \u001b[0md\u001b[0m \u001b[0;32min\u001b[0m \u001b[0mt\u001b[0m\u001b[0;34m[\u001b[0m\u001b[0;36m0\u001b[0m\u001b[0;34m]\u001b[0m\u001b[0;34m]\u001b[0m\u001b[0;34m\u001b[0m\u001b[0;34m\u001b[0m\u001b[0m\n",
            "\u001b[0;32m<ipython-input-23-c589b83ea5a6>\u001b[0m in \u001b[0;36mfeatureUni\u001b[0;34m(d)\u001b[0m\n\u001b[1;32m      3\u001b[0m   \u001b[0munigrams\u001b[0m \u001b[0;34m=\u001b[0m \u001b[0md\u001b[0m\u001b[0;34m[\u001b[0m\u001b[0;34m'review/text'\u001b[0m\u001b[0;34m]\u001b[0m\u001b[0;34m.\u001b[0m\u001b[0mtranslate\u001b[0m\u001b[0;34m(\u001b[0m\u001b[0mstr\u001b[0m\u001b[0;34m.\u001b[0m\u001b[0mmaketrans\u001b[0m\u001b[0;34m(\u001b[0m\u001b[0;34m''\u001b[0m\u001b[0;34m,\u001b[0m \u001b[0;34m''\u001b[0m\u001b[0;34m,\u001b[0m \u001b[0mstring\u001b[0m\u001b[0;34m.\u001b[0m\u001b[0mpunctuation\u001b[0m\u001b[0;34m)\u001b[0m\u001b[0;34m)\u001b[0m\u001b[0;34m.\u001b[0m\u001b[0mlower\u001b[0m\u001b[0;34m(\u001b[0m\u001b[0;34m)\u001b[0m\u001b[0;34m.\u001b[0m\u001b[0msplit\u001b[0m\u001b[0;34m(\u001b[0m\u001b[0;34m)\u001b[0m\u001b[0;34m\u001b[0m\u001b[0;34m\u001b[0m\u001b[0m\n\u001b[1;32m      4\u001b[0m   \u001b[0;32mfor\u001b[0m \u001b[0mi\u001b[0m \u001b[0;32min\u001b[0m \u001b[0mrange\u001b[0m\u001b[0;34m(\u001b[0m\u001b[0mnWords\u001b[0m\u001b[0;34m)\u001b[0m\u001b[0;34m:\u001b[0m\u001b[0;34m\u001b[0m\u001b[0;34m\u001b[0m\u001b[0m\n\u001b[0;32m----> 5\u001b[0;31m     \u001b[0;32mif\u001b[0m \u001b[0municom\u001b[0m\u001b[0;34m[\u001b[0m\u001b[0mi\u001b[0m\u001b[0;34m]\u001b[0m\u001b[0;34m[\u001b[0m\u001b[0;36m0\u001b[0m\u001b[0;34m]\u001b[0m \u001b[0;32min\u001b[0m \u001b[0munigrams\u001b[0m\u001b[0;34m:\u001b[0m\u001b[0;34m\u001b[0m\u001b[0;34m\u001b[0m\u001b[0m\n\u001b[0m\u001b[1;32m      6\u001b[0m       \u001b[0mv\u001b[0m\u001b[0;34m[\u001b[0m\u001b[0mi\u001b[0m\u001b[0;34m]\u001b[0m \u001b[0;34m=\u001b[0m \u001b[0munigrams\u001b[0m\u001b[0;34m.\u001b[0m\u001b[0mcount\u001b[0m\u001b[0;34m(\u001b[0m\u001b[0municom\u001b[0m\u001b[0;34m[\u001b[0m\u001b[0mi\u001b[0m\u001b[0;34m]\u001b[0m\u001b[0;34m[\u001b[0m\u001b[0;36m0\u001b[0m\u001b[0;34m]\u001b[0m\u001b[0;34m)\u001b[0m\u001b[0;34m\u001b[0m\u001b[0;34m\u001b[0m\u001b[0m\n\u001b[1;32m      7\u001b[0m   \u001b[0;32mreturn\u001b[0m \u001b[0mv\u001b[0m\u001b[0;34m\u001b[0m\u001b[0;34m\u001b[0m\u001b[0m\n",
            "\u001b[0;31mIndexError\u001b[0m: list index out of range"
          ]
        }
      ]
    },
    {
      "cell_type": "code",
      "metadata": {
        "id": "SwTfkzRZRbAp"
      },
      "source": [
        "Xtest = [featureUni(d) for d in t[1]]\n",
        "Ytest = [d['review/points'] for d in t[1]]\n",
        "Xvalid = [featureUni(d) for d in t[2]]\n",
        "Yvalid = [d['review/points'] for d in t[2]]"
      ],
      "execution_count": null,
      "outputs": []
    },
    {
      "cell_type": "code",
      "metadata": {
        "id": "sUPCGdcwIeXB"
      },
      "source": [
        "for l in lambdas:\n",
        "  mod = Ridge(alpha=l)\n",
        "  mod.fit(Xtrain,Ytrain)\n",
        "  Ypred = mod.predict(Xvalid)\n",
        "  print(getMSE(Ypred, Yvalid), l)"
      ],
      "execution_count": null,
      "outputs": []
    },
    {
      "cell_type": "code",
      "metadata": {
        "colab": {
          "base_uri": "https://localhost:8080/"
        },
        "id": "3m3bTkIjRhHb",
        "outputId": "8b33fabe-58c6-4c7d-e875-dd2070b98a4f"
      },
      "source": [
        "mod = Ridge(alpha=100)\n",
        "mod.fit(Xtrain,Ytrain)\n",
        "Ypred = mod.predict(Xtest)\n",
        "getMSE(Ypred, Ytest)"
      ],
      "execution_count": null,
      "outputs": [
        {
          "output_type": "execute_result",
          "data": {
            "text/plain": [
              "11.033866686698717"
            ]
          },
          "metadata": {},
          "execution_count": 106
        }
      ]
    },
    {
      "cell_type": "code",
      "metadata": {
        "id": "0ci8FjsrNX1a"
      },
      "source": [
        "#then bigrams\n",
        "Xtrain = [featureBi(d) for d in t[0]]\n",
        "Ytrain = [d['review/points'] for d in t[0]]"
      ],
      "execution_count": null,
      "outputs": []
    },
    {
      "cell_type": "code",
      "metadata": {
        "id": "UTtEw8dLhHja"
      },
      "source": [
        "Xtest = [featureBi(d) for d in t[1]]\n",
        "Ytest = [d['review/points'] for d in t[1]]\n",
        "Xvalid = [featureUni(d) for d in t[2]]\n",
        "Yvalid = [d['review/points'] for d in t[2]]"
      ],
      "execution_count": null,
      "outputs": []
    },
    {
      "cell_type": "code",
      "metadata": {
        "colab": {
          "base_uri": "https://localhost:8080/"
        },
        "id": "vEppJ9sSNa8Y",
        "outputId": "66946c78-6327-4ec4-ee17-25280945ee9c"
      },
      "source": [
        "for l in lambdas:\n",
        "  mod = Ridge(alpha=l)\n",
        "  mod.fit(Xtrain,Ytrain)\n",
        "  Ypred = mod.predict(Xvalid)\n",
        "  print(getMSE(Ypred, Yvalid), l)"
      ],
      "execution_count": null,
      "outputs": [
        {
          "output_type": "stream",
          "name": "stdout",
          "text": [
            "20.027569110576923 0.01\n",
            "20.027569110576923 0.1\n",
            "20.026893028846153 1\n",
            "20.021409254807693 10\n",
            "19.971429286858974 100\n",
            "19.570437700320515 1000\n",
            "18.151442307692307 10000\n"
          ]
        }
      ]
    },
    {
      "cell_type": "code",
      "metadata": {
        "colab": {
          "base_uri": "https://localhost:8080/"
        },
        "id": "m43SnesBR9NM",
        "outputId": "d54cb2e7-fb37-49a7-85a7-e18e33cf2a53"
      },
      "source": [
        "mod = Ridge(alpha=10000)\n",
        "mod.fit(Xtrain,Ytrain)\n",
        "Ypred = mod.predict(Xtest)\n",
        "getMSE(Ypred, Ytest)"
      ],
      "execution_count": null,
      "outputs": [
        {
          "output_type": "execute_result",
          "data": {
            "text/plain": [
              "14.081505408653847"
            ]
          },
          "metadata": {},
          "execution_count": 110
        }
      ]
    },
    {
      "cell_type": "code",
      "metadata": {
        "id": "BPDpOoB5SC3B"
      },
      "source": [
        "##end"
      ],
      "execution_count": null,
      "outputs": []
    },
    {
      "cell_type": "code",
      "metadata": {
        "id": "36GTQh2dQgtf"
      },
      "source": [
        "t = (trainstop, tempstop)\n",
        "unigrams, bigrams = [], []\n",
        "for d in t[0]:\n",
        "  token = d['review/text'].translate(str.maketrans('', '', string.punctuation)).lower().split()\n",
        "  unigrams += token\n",
        "  bigrams += ngrams(token, 2)\n",
        "unicom, bicom = Counter(unigrams).most_common(nWords), Counter(bigrams).most_common(nWords)\n",
        "def featureUni(d):\n",
        "  v = [0]*nWords\n",
        "  unigrams = d['review/text'].translate(str.maketrans('', '', string.punctuation)).lower().split()\n",
        "  for i in range(nWords):\n",
        "    if unicom[i][0] in unigrams:\n",
        "      v[i] = unigrams.count(unicom[i][0])\n",
        "  return v\n",
        "\n",
        "def featureBi(d):\n",
        "  v = [0]*nWords\n",
        "  bigrams = ngrams(d['review/text'].translate(str.maketrans('', '', string.punctuation)).lower().split(), 2)\n",
        "  for i in range(nWords):\n",
        "    if bicom[i][0] in bigrams:\n",
        "      v[i] = bigrams.count(bicom[i][0])\n",
        "  return v"
      ],
      "execution_count": null,
      "outputs": []
    },
    {
      "cell_type": "code",
      "metadata": {
        "id": "kduB49h8QrRh"
      },
      "source": [
        "#unigrams first\n",
        "Xtrain = [featureUni(d) for d in t[0]]\n",
        "Ytrain = [d['review/points'] for d in t[0]]\n",
        "Xtest = [featureUni(d) for d in t[1]]\n",
        "Ytest = [d['review/points'] for d in t[1]]"
      ],
      "execution_count": null,
      "outputs": []
    },
    {
      "cell_type": "code",
      "metadata": {
        "id": "Ln-CM-G0Qspu"
      },
      "source": [
        "for l in lambdas:\n",
        "  mod = Ridge(alpha=1)\n",
        "  mod.fit(Xtrain,Ytrain)\n",
        "  Ypred = mod.predict(Xtest)\n",
        "  MSE = sum([(yp - yt)**2 for (yp,yt) in zip(Ypred, Ytest)]) / len(Ytest)\n",
        "  print(MSE, l)"
      ],
      "execution_count": null,
      "outputs": []
    },
    {
      "cell_type": "code",
      "metadata": {
        "id": "xvqMQQycQtm9"
      },
      "source": [
        "#then bigrams\n",
        "Xtrain = [featureBi(d) for d in t[0]]\n",
        "Ytrain = [d['review/points'] for d in t[0]]\n",
        "Xtest = [featureBi(d) for d in t[1]]\n",
        "Ytest = [d['review/points'] for d in t[1]]"
      ],
      "execution_count": null,
      "outputs": []
    },
    {
      "cell_type": "code",
      "metadata": {
        "id": "z8Y04-hMQvxj"
      },
      "source": [
        "for l in lambdas:\n",
        "  mod = Ridge(alpha=1)\n",
        "  mod.fit(Xtrain,Ytrain)\n",
        "  Ypred = mod.predict(Xtest)\n",
        "  MSE = sum([(yp - yt)**2 for (yp,yt) in zip(Ypred, Ytest)]) / len(Ytest)\n",
        "  print(MSE, l)"
      ],
      "execution_count": null,
      "outputs": []
    },
    {
      "cell_type": "code",
      "metadata": {
        "id": "LIrvwQKsQzTG"
      },
      "source": [
        "t = (trainstem, test)\n",
        "unigrams, bigrams = [], []\n",
        "for d in t[0]:\n",
        "  token = d['review/text'].translate(str.maketrans('', '', string.punctuation)).lower().split()\n",
        "  unigrams += token\n",
        "  bigrams += ngrams(token, 2)\n",
        "unicom, bicom = Counter(unigrams).most_common(nWords), Counter(bigrams).most_common(nWords)\n",
        "def featureUni(d):\n",
        "  v = [0]*nWords\n",
        "  unigrams = d['review/text'].translate(str.maketrans('', '', string.punctuation)).lower().split()\n",
        "  for i in range(nWords):\n",
        "    if unicom[i][0] in unigrams:\n",
        "      v[i] = unigrams.count(unicom[i][0])\n",
        "  return v\n",
        "\n",
        "def featureBi(d):\n",
        "  v = [0]*nWords\n",
        "  bigrams = ngrams(d['review/text'].translate(str.maketrans('', '', string.punctuation)).lower().split(), 2)\n",
        "  for i in range(nWords):\n",
        "    if bicom[i][0] in bigrams:\n",
        "      v[i] = bigrams.count(bicom[i][0])\n",
        "  return v"
      ],
      "execution_count": null,
      "outputs": []
    },
    {
      "cell_type": "code",
      "metadata": {
        "id": "BpfOmOqmNcBL"
      },
      "source": [
        "#"
      ],
      "execution_count": null,
      "outputs": []
    },
    {
      "cell_type": "code",
      "metadata": {
        "id": "maW2BGcQlOZa"
      },
      "source": [
        "unigrams, bigrams = [], []\n",
        "unigramDict, bigramDict = defaultdict(int), defaultdict(int)\n",
        "punctuation = set(string.punctuation)"
      ],
      "execution_count": null,
      "outputs": []
    },
    {
      "cell_type": "code",
      "metadata": {
        "id": "EPageTgvlP_r"
      },
      "source": [
        "#get all unigrams/bigrams\n",
        "for d in train:\n",
        "  for w in d['review/text'].split():\n",
        "    w = ''.join([c for c in w.lower() if not c in punctuation])\n",
        "    if w == '': continue\n",
        "    unigrams.append(w)\n",
        "bigrams = list(zip(unigrams[:-1], unigrams[1:]))"
      ],
      "execution_count": null,
      "outputs": []
    },
    {
      "cell_type": "code",
      "metadata": {
        "id": "fHlTV_Zvl0M1"
      },
      "source": [
        "#get frequency of all unigrams/bigrams + create combogram list for 1c\n",
        "for u in unigrams: unigramDict[u] += 1"
      ],
      "execution_count": null,
      "outputs": []
    },
    {
      "cell_type": "code",
      "metadata": {
        "id": "FHZrYB0b29BO"
      },
      "source": [
        "for b in bigrams: bigramDict[b] += 1"
      ],
      "execution_count": null,
      "outputs": []
    },
    {
      "cell_type": "code",
      "metadata": {
        "id": "zDdvUxixl1ad"
      },
      "source": [
        "#get 1000 most common unigrams/bigrams\n",
        "unigrams1k = Counter(unigramDict).most_common(500)\n",
        "bigrams1k = Counter(bigramDict).most_common(500)"
      ],
      "execution_count": null,
      "outputs": []
    },
    {
      "cell_type": "code",
      "metadata": {
        "id": "3OoEzdjzjtGP"
      },
      "source": [
        "def featureUni(d):\n",
        "  v = [0]*500\n",
        "\n",
        "  #get unigrams\n",
        "  unigrams = []\n",
        "  for w in d['review/text'].split():\n",
        "    w = ''.join([c for c in w.lower() if not c in punctuation])\n",
        "    if w == '': continue\n",
        "    unigrams.append(w)\n",
        "\n",
        "  for i in range(500):\n",
        "    if unigrams1k[i][0] in unigrams:\n",
        "      v[i] = unigrams.count(unigrams1k[i][0])\n",
        "  return v"
      ],
      "execution_count": null,
      "outputs": []
    },
    {
      "cell_type": "code",
      "metadata": {
        "id": "4yQ2YHkF3b26"
      },
      "source": [
        "Xtrain = [featureUni(d) for d in train]"
      ],
      "execution_count": null,
      "outputs": []
    },
    {
      "cell_type": "code",
      "metadata": {
        "id": "B2taPFrsjwty"
      },
      "source": [
        "Ytrain = [d['rating'] for d in train]\n",
        "Xtest = [featureUni(d) for d in test]\n",
        "Ytest = [d['rating'] for d in test]"
      ],
      "execution_count": null,
      "outputs": []
    },
    {
      "cell_type": "code",
      "metadata": {
        "id": "4DxjAJvgl46Y"
      },
      "source": [
        "mod = Ridge(alpha=1)\n",
        "mod.fit(Xtrain,Ytrain)\n",
        "Ypred = mod.predict(Xtest)\n",
        "MSE = sum([(yp - yt)**2 for (yp,yt) in zip(Ypred, Ytest)]) / len(Ytest)"
      ],
      "execution_count": null,
      "outputs": []
    },
    {
      "cell_type": "code",
      "metadata": {
        "id": "b6buRRTbl9fr"
      },
      "source": [
        "theta = mod.coef_\n",
        "weights = [(t, w[0]) for t, w in zip(theta, unigrams1k)]\n",
        "weights.sort()"
      ],
      "execution_count": null,
      "outputs": []
    },
    {
      "cell_type": "code",
      "metadata": {
        "id": "hiCjdEiHfT3h"
      },
      "source": [
        "times = [dateutil.parser.parse(d['date_added']) for d in dataset]"
      ],
      "execution_count": null,
      "outputs": []
    },
    {
      "cell_type": "code",
      "metadata": {
        "id": "0ItJ-70qiffl"
      },
      "source": [
        "datatimes = list(zip(dataset, times))"
      ],
      "execution_count": null,
      "outputs": []
    },
    {
      "cell_type": "code",
      "metadata": {
        "id": "kW5KxKvqjARv"
      },
      "source": [
        "datatimes.sort(key=lambda x: x[1])"
      ],
      "execution_count": null,
      "outputs": []
    },
    {
      "cell_type": "code",
      "metadata": {
        "id": "kqmhJa6VlSt0"
      },
      "source": [
        "datatimes = datatimes[2:]"
      ],
      "execution_count": null,
      "outputs": []
    },
    {
      "cell_type": "code",
      "metadata": {
        "colab": {
          "base_uri": "https://localhost:8080/"
        },
        "id": "2JL2Q1w5oK--",
        "outputId": "79c3d267-eab0-40b3-99d3-4e0d99e62e6e"
      },
      "source": [
        "datatimes[0]"
      ],
      "execution_count": null,
      "outputs": [
        {
          "data": {
            "text/plain": [
              "({'book_id': '196084',\n",
              "  'date_added': 'Mon Jan 01 00:00:00 -0800 2001',\n",
              "  'date_updated': 'Thu Dec 17 03:12:11 -0800 2009',\n",
              "  'n_comments': 0,\n",
              "  'n_votes': 0,\n",
              "  'rating': 3,\n",
              "  'read_at': 'Sat Jan 06 00:00:00 -0800 2007',\n",
              "  'review_id': 'd23dc89ab32cd864e54d18369751163b',\n",
              "  'review_text': '\"this was not a bad read. it was a little hokey at times ... the best example of that was the liberal use of the exclamation *i declare* by the southern female lead. and by liberal i mean about a thousand times. but that is likely attributed to the period\\\\',\n",
              "  'started_at': '',\n",
              "  'user_id': 'd889b42d9eb7b80e02f24830e27c6389'},\n",
              " datetime.datetime(2001, 1, 1, 0, 0, tzinfo=tzoffset(None, -28800)))"
            ]
          },
          "execution_count": 117,
          "metadata": {},
          "output_type": "execute_result"
        }
      ]
    },
    {
      "cell_type": "code",
      "metadata": {
        "id": "4uCwrk9Ij_gL"
      },
      "source": [
        "timesSorted = []\n",
        "for d in datatimes:\n",
        "  timesSorted.append(d[1])"
      ],
      "execution_count": null,
      "outputs": []
    },
    {
      "cell_type": "code",
      "metadata": {
        "id": "MlVz6Gqnmt4l"
      },
      "source": [
        "ratingSorted = [d[0]['rating'] for d in datatimes]"
      ],
      "execution_count": null,
      "outputs": []
    },
    {
      "cell_type": "code",
      "metadata": {
        "id": "2JoqO4Kim1Za"
      },
      "source": [
        "monthAverages = defaultdict(list)\n",
        "\n",
        "for d in datatimes:\n",
        "    t = d[1]\n",
        "    monthAverages[t.month].append(d[0]['rating'])\n",
        "\n",
        "for k in monthAverages:\n",
        "    monthAverages[k] = sum(monthAverages[k]) / len(monthAverages[k])"
      ],
      "execution_count": null,
      "outputs": []
    },
    {
      "cell_type": "code",
      "metadata": {
        "colab": {
          "base_uri": "https://localhost:8080/"
        },
        "id": "foAUqTulqH1a",
        "outputId": "1ca563c2-a646-47fa-d1da-7c5d28a7f9a4"
      },
      "source": [
        "monthAverages"
      ],
      "execution_count": null,
      "outputs": [
        {
          "data": {
            "text/plain": [
              "defaultdict(list,\n",
              "            {1: 3.6761906932746773,\n",
              "             2: 3.6883364673954224,\n",
              "             3: 3.7009164067613876,\n",
              "             4: 3.6926848869123425,\n",
              "             5: 3.6930222649718862,\n",
              "             6: 3.6931623400819773,\n",
              "             7: 3.6582304492466275,\n",
              "             8: 3.675094359133447,\n",
              "             9: 3.688107342814853,\n",
              "             10: 3.6889126461358073,\n",
              "             11: 3.6919921367299193,\n",
              "             12: 3.6672105636888306})"
            ]
          },
          "execution_count": 140,
          "metadata": {},
          "output_type": "execute_result"
        }
      ]
    },
    {
      "cell_type": "code",
      "metadata": {
        "colab": {
          "base_uri": "https://localhost:8080/",
          "height": 312
        },
        "id": "34cQzodYb3jc",
        "outputId": "3d8729ef-8f68-469d-9b47-37b24995eb29"
      },
      "source": [
        "plt.bar(range(1, 13), [monthAverages[k] for k in range(1, 13)])\n",
        "months = [\"J\", \"F\", \"M\", \"A\", \"M\", \"J\", \"J\", \"A\", \"S\", \"O\", \"N\", \"D\"]\n",
        "plt.xticks(numpy.arange(1,13,1), months)\n",
        "plt.ylim(3.64, 3.71)\n",
        "plt.ylabel(\"Avg. Rating\")\n",
        "plt.xlabel(\"Month\")\n",
        "plt.title(\"Rating vs. Month\")\n"
      ],
      "execution_count": null,
      "outputs": [
        {
          "data": {
            "text/plain": [
              "Text(0.5, 1.0, 'Rating vs. Month')"
            ]
          },
          "execution_count": 154,
          "metadata": {},
          "output_type": "execute_result"
        },
        {
          "data": {
            "image/png": "[encoded data removed]",
            "text/plain": [
              "<Figure size 432x288 with 1 Axes>"
            ]
          },
          "metadata": {},
          "output_type": "display_data"
        }
      ]
    },
    {
      "cell_type": "code",
      "metadata": {
        "id": "8wYXmVrciMed"
      },
      "source": [
        "reviewLength = []\n",
        "for d in datatimes:\n",
        "  reviewLength.append(len(d[0]['review_text']))"
      ],
      "execution_count": null,
      "outputs": []
    },
    {
      "cell_type": "code",
      "metadata": {
        "colab": {
          "base_uri": "https://localhost:8080/",
          "height": 312
        },
        "id": "yz7kg6yjsQnO",
        "outputId": "e6003b87-18ec-4b3a-d37a-f58511adce6e"
      },
      "source": [
        "plt.scatter(reviewLength, ratingSorted, s=0.1)\n",
        "plt.plot(np.unique(reviewLength), np.poly1d(np.polyfit(reviewLength, ratingSorted, 1))(np.unique(reviewLength)), color = 'dodgerblue', linestyle = '--')\n",
        "plt.xlabel(\"Review Length (in characters)\")\n",
        "plt.ylabel(\"Rating\")\n",
        "plt.title(\"Rating vs. Review Length\")"
      ],
      "execution_count": null,
      "outputs": [
        {
          "data": {
            "text/plain": [
              "Text(0.5, 1.0, 'Rating vs. Review Length')"
            ]
          },
          "execution_count": 180,
          "metadata": {},
          "output_type": "execute_result"
        },
        {
          "data": {
            "image/png": "[encoded data removed]",
            "text/plain": [
              "<Figure size 432x288 with 1 Axes>"
            ]
          },
          "metadata": {},
          "output_type": "display_data"
        }
      ]
    },
    {
      "cell_type": "code",
      "metadata": {
        "id": "o43gEpbdwAWh"
      },
      "source": [
        "comments, votes = [], []\n",
        "for d in datatimes:\n",
        "  comments.append(d[0]['n_comments'])\n",
        "  votes.append(d[0]['n_votes'])"
      ],
      "execution_count": null,
      "outputs": []
    },
    {
      "cell_type": "code",
      "metadata": {
        "colab": {
          "base_uri": "https://localhost:8080/",
          "height": 312
        },
        "id": "Uttp80_av-CR",
        "outputId": "d55911f6-30b1-4122-8fc7-0d2a3a926d5f"
      },
      "source": [
        "plt.scatter(comments, ratingSorted, s=0.5)\n",
        "plt.plot(np.unique(comments), np.poly1d(np.polyfit(comments, ratingSorted, 1))(np.unique(comments)), color = 'dodgerblue', linestyle = '--')\n",
        "plt.xlabel(\"Number of Comments\")\n",
        "plt.ylabel(\"Rating\")\n",
        "plt.ylim(0.5, 5.5)\n",
        "plt.title(\"Number of Comments vs. Rating\")"
      ],
      "execution_count": null,
      "outputs": [
        {
          "data": {
            "text/plain": [
              "Text(0.5, 1.0, 'Number of Comments vs. Rating')"
            ]
          },
          "execution_count": 191,
          "metadata": {},
          "output_type": "execute_result"
        },
        {
          "data": {
            "image/png": "[encoded data removed]",
            "text/plain": [
              "<Figure size 432x288 with 1 Axes>"
            ]
          },
          "metadata": {},
          "output_type": "display_data"
        }
      ]
    },
    {
      "cell_type": "code",
      "metadata": {
        "colab": {
          "base_uri": "https://localhost:8080/",
          "height": 312
        },
        "id": "OzTycF6cwP4H",
        "outputId": "97e53c6c-432d-4f17-903e-e027f01d0b47"
      },
      "source": [
        "plt.scatter(votes, ratingSorted, s=0.5)\n",
        "plt.plot(np.unique(votes), np.poly1d(np.polyfit(votes, ratingSorted, 1))(np.unique(votes)), color = 'dodgerblue', linestyle = '--')\n",
        "plt.xlabel(\"Number of Votes\")\n",
        "plt.ylabel(\"Rating\")\n",
        "plt.ylim(0.5, 5.5)\n",
        "plt.title(\"Number of Votes vs. Rating\")"
      ],
      "execution_count": null,
      "outputs": [
        {
          "data": {
            "text/plain": [
              "Text(0.5, 1.0, 'Number of Votes vs. Rating')"
            ]
          },
          "execution_count": 192,
          "metadata": {},
          "output_type": "execute_result"
        },
        {
          "data": {
            "image/png": "[encoded data removed]",
            "text/plain": [
              "<Figure size 432x288 with 1 Axes>"
            ]
          },
          "metadata": {},
          "output_type": "display_data"
        }
      ]
    },
    {
      "cell_type": "code",
      "metadata": {
        "colab": {
          "base_uri": "https://localhost:8080/",
          "height": 231
        },
        "id": "i5A_8WOpsUVe",
        "outputId": "e9640267-c6f6-452f-8064-0380f363778c"
      },
      "source": [
        "X = numpy.matrix([[1,l] for l in reviewLength]) # Note the inclusion of the constant term\n",
        "y = numpy.matrix(ratingSorted).T\n",
        "model = sklearn.linear_model.LinearRegression(fit_intercept=False)\n",
        "model.fit(X, y)\n",
        "theta = model.coef_\n",
        "theta,residuals,rank,s = numpy.linalg.lstsq(X, y, rcond=None)\n",
        "numpy.linalg.inv(X.T*X)*X.T*y\n",
        "xplot = numpy.arange(0,20040,10)\n",
        "yplot = [(theta[0] + theta[1]*x).item() for x in xplot]\n",
        "plt.scatter(lengths, ratings, color='grey')\n",
        "plt.plot(numpy.array(xplot), yplot, color = 'k', linestyle = '--',\\\n",
        "         label = r\"$3.983 + 1.193 \\times 10^{-4} \\mathit{length}$\")"
      ],
      "execution_count": null,
      "outputs": [
        {
          "ename": "NameError",
          "evalue": "ignored",
          "output_type": "error",
          "traceback": [
            "\u001b[0;31m---------------------------------------------------------------------------\u001b[0m",
            "\u001b[0;31mNameError\u001b[0m                                 Traceback (most recent call last)",
            "\u001b[0;32m<ipython-input-168-7d61d63448c0>\u001b[0m in \u001b[0;36m<module>\u001b[0;34m()\u001b[0m\n\u001b[1;32m      1\u001b[0m \u001b[0mX\u001b[0m \u001b[0;34m=\u001b[0m \u001b[0mnumpy\u001b[0m\u001b[0;34m.\u001b[0m\u001b[0mmatrix\u001b[0m\u001b[0;34m(\u001b[0m\u001b[0;34m[\u001b[0m\u001b[0;34m[\u001b[0m\u001b[0;36m1\u001b[0m\u001b[0;34m,\u001b[0m\u001b[0ml\u001b[0m\u001b[0;34m]\u001b[0m \u001b[0;32mfor\u001b[0m \u001b[0ml\u001b[0m \u001b[0;32min\u001b[0m \u001b[0mreviewLength\u001b[0m\u001b[0;34m]\u001b[0m\u001b[0;34m)\u001b[0m \u001b[0;31m# Note the inclusion of the constant term\u001b[0m\u001b[0;34m\u001b[0m\u001b[0;34m\u001b[0m\u001b[0m\n\u001b[1;32m      2\u001b[0m \u001b[0my\u001b[0m \u001b[0;34m=\u001b[0m \u001b[0mnumpy\u001b[0m\u001b[0;34m.\u001b[0m\u001b[0mmatrix\u001b[0m\u001b[0;34m(\u001b[0m\u001b[0mratingSorted\u001b[0m\u001b[0;34m)\u001b[0m\u001b[0;34m.\u001b[0m\u001b[0mT\u001b[0m\u001b[0;34m\u001b[0m\u001b[0;34m\u001b[0m\u001b[0m\n\u001b[0;32m----> 3\u001b[0;31m \u001b[0mmodel\u001b[0m \u001b[0;34m=\u001b[0m \u001b[0msklearn\u001b[0m\u001b[0;34m.\u001b[0m\u001b[0mlinear_model\u001b[0m\u001b[0;34m.\u001b[0m\u001b[0mLinearRegression\u001b[0m\u001b[0;34m(\u001b[0m\u001b[0mfit_intercept\u001b[0m\u001b[0;34m=\u001b[0m\u001b[0;32mFalse\u001b[0m\u001b[0;34m)\u001b[0m\u001b[0;34m\u001b[0m\u001b[0;34m\u001b[0m\u001b[0m\n\u001b[0m\u001b[1;32m      4\u001b[0m \u001b[0mmodel\u001b[0m\u001b[0;34m.\u001b[0m\u001b[0mfit\u001b[0m\u001b[0;34m(\u001b[0m\u001b[0mX\u001b[0m\u001b[0;34m,\u001b[0m \u001b[0my\u001b[0m\u001b[0;34m)\u001b[0m\u001b[0;34m\u001b[0m\u001b[0;34m\u001b[0m\u001b[0m\n\u001b[1;32m      5\u001b[0m \u001b[0mtheta\u001b[0m \u001b[0;34m=\u001b[0m \u001b[0mmodel\u001b[0m\u001b[0;34m.\u001b[0m\u001b[0mcoef_\u001b[0m\u001b[0;34m\u001b[0m\u001b[0;34m\u001b[0m\u001b[0m\n",
            "\u001b[0;31mNameError\u001b[0m: name 'sklearn' is not defined"
          ]
        }
      ]
    },
    {
      "cell_type": "code",
      "metadata": {
        "id": "F1GozUm0tUJA"
      },
      "source": [],
      "execution_count": null,
      "outputs": []
    }
  ]
}